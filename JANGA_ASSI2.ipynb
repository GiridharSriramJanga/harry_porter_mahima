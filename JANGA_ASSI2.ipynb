{
  "nbformat": 4,
  "nbformat_minor": 0,
  "metadata": {
    "colab": {
      "provenance": []
    },
    "kernelspec": {
      "name": "python3",
      "display_name": "Python 3"
    },
    "language_info": {
      "name": "python"
    }
  },
  "cells": [
    {
      "cell_type": "code",
      "execution_count": 1,
      "metadata": {
        "colab": {
          "base_uri": "https://localhost:8080/"
        },
        "id": "hrWPJp-T7553",
        "outputId": "3d34daf0-89de-49ff-cdf3-c7055eb0f633"
      },
      "outputs": [
        {
          "output_type": "stream",
          "name": "stdout",
          "text": [
            "Collecting pymupdf\n",
            "  Downloading pymupdf-1.25.3-cp39-abi3-manylinux2014_x86_64.manylinux_2_17_x86_64.whl.metadata (3.4 kB)\n",
            "Collecting mrjob\n",
            "  Downloading mrjob-0.7.4-py2.py3-none-any.whl.metadata (7.3 kB)\n",
            "Collecting pyspellchecker\n",
            "  Downloading pyspellchecker-0.8.2-py3-none-any.whl.metadata (9.4 kB)\n",
            "Requirement already satisfied: PyYAML>=3.10 in /usr/local/lib/python3.11/dist-packages (from mrjob) (6.0.2)\n",
            "Downloading pymupdf-1.25.3-cp39-abi3-manylinux2014_x86_64.manylinux_2_17_x86_64.whl (20.0 MB)\n",
            "\u001b[2K   \u001b[90m━━━━━━━━━━━━━━━━━━━━━━━━━━━━━━━━━━━━━━━━\u001b[0m \u001b[32m20.0/20.0 MB\u001b[0m \u001b[31m74.8 MB/s\u001b[0m eta \u001b[36m0:00:00\u001b[0m\n",
            "\u001b[?25hDownloading mrjob-0.7.4-py2.py3-none-any.whl (439 kB)\n",
            "\u001b[2K   \u001b[90m━━━━━━━━━━━━━━━━━━━━━━━━━━━━━━━━━━━━━━━━\u001b[0m \u001b[32m439.6/439.6 kB\u001b[0m \u001b[31m28.4 MB/s\u001b[0m eta \u001b[36m0:00:00\u001b[0m\n",
            "\u001b[?25hDownloading pyspellchecker-0.8.2-py3-none-any.whl (7.1 MB)\n",
            "\u001b[2K   \u001b[90m━━━━━━━━━━━━━━━━━━━━━━━━━━━━━━━━━━━━━━━━\u001b[0m \u001b[32m7.1/7.1 MB\u001b[0m \u001b[31m87.2 MB/s\u001b[0m eta \u001b[36m0:00:00\u001b[0m\n",
            "\u001b[?25hInstalling collected packages: pyspellchecker, pymupdf, mrjob\n",
            "Successfully installed mrjob-0.7.4 pymupdf-1.25.3 pyspellchecker-0.8.2\n"
          ]
        }
      ],
      "source": [
        "!pip install pymupdf mrjob pyspellchecker"
      ]
    },
    {
      "cell_type": "code",
      "source": [
        "import re\n",
        "from collections import Counter\n",
        "\n",
        "#D.O.B : 02/02/2003\n",
        "#file-1 pages: 519 - 528\n",
        "#file-2 pages: 521 - 530\n",
        "\n",
        "with open(\"file1.txt\", \"r\", encoding=\"utf-8\") as file:\n",
        "    text = file.read()\n",
        "\n",
        "words = re.findall(r'\\b\\w+\\b', text.lower())\n",
        "\n",
        "word_counts = Counter(words)\n",
        "\n",
        "print(\"\\n **Word Count (file1.txt)** \")\n",
        "for word, count in word_counts.most_common(20):\n",
        "    print(f\"{word}: {count}\")"
      ],
      "metadata": {
        "colab": {
          "base_uri": "https://localhost:8080/"
        },
        "id": "oCSuf5m48N1H",
        "outputId": "55cfb250-6a2f-4455-8116-81f265d9b9b0"
      },
      "execution_count": 7,
      "outputs": [
        {
          "output_type": "stream",
          "name": "stdout",
          "text": [
            "\n",
            " **Word Count (file1.txt)** \n",
            "the: 75\n",
            "and: 47\n",
            "harry: 45\n",
            "to: 38\n",
            "a: 34\n",
            "his: 34\n",
            "of: 30\n",
            "i: 28\n",
            "in: 23\n",
            "was: 23\n",
            "had: 22\n",
            "vernon: 20\n",
            "he: 20\n",
            "uncle: 20\n",
            "you: 19\n",
            "said: 19\n",
            "s: 15\n",
            "petunia: 13\n",
            "dudley: 13\n",
            "at: 12\n"
          ]
        }
      ]
    },
    {
      "cell_type": "code",
      "source": [
        "import re\n",
        "from collections import Counter\n",
        "from spellchecker import SpellChecker\n",
        "\n",
        "with open(\"file2.txt\", \"r\", encoding=\"utf-8\") as file:\n",
        "    text = file.read()\n",
        "\n",
        "words = re.findall(r'\\b\\w+\\b', text.lower())\n",
        "words = [word for word in words if \"'\" not in word]\n",
        "\n",
        "spell = SpellChecker()\n",
        "\n",
        "non_english_counts = Counter(word for word in words if word not in spell)\n",
        "\n",
        "print(\"\\n**Non-English Words (file2.txt)** \")\n",
        "for word, count in non_english_counts.most_common(20):\n",
        "    print(f\"{word}: {count}\")\n"
      ],
      "metadata": {
        "colab": {
          "base_uri": "https://localhost:8080/"
        },
        "id": "NH7L37pk8RUk",
        "outputId": "1c405277-dea8-448f-9722-d06c21837a3a"
      },
      "execution_count": 8,
      "outputs": [
        {
          "output_type": "stream",
          "name": "stdout",
          "text": [
            "\n",
            "**Non-English Words (file2.txt)** \n",
            "dursleys: 11\n",
            "www: 10\n",
            "ztcprep: 10\n",
            "ll: 10\n",
            "hadn: 4\n",
            "didn: 3\n",
            "quidditch: 3\n",
            "dursley: 2\n",
            "wasn: 2\n",
            "wizarding: 2\n",
            "hedwig: 2\n",
            "hermione: 2\n",
            "3: 1\n",
            "snape: 1\n",
            "hagrid: 1\n",
            "4: 1\n",
            "spellbooks: 1\n",
            "muggles: 1\n",
            "neckless: 1\n",
            "5: 1\n"
          ]
        }
      ]
    }
  ]
}